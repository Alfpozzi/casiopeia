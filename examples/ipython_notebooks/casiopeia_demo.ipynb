{
 "metadata": {
  "name": ""
 },
 "nbformat": 3,
 "nbformat_minor": 0,
 "worksheets": [
  {
   "cells": [
    {
     "cell_type": "heading",
     "level": 1,
     "metadata": {},
     "source": [
      "casiopeia demo"
     ]
    },
    {
     "cell_type": "markdown",
     "metadata": {},
     "source": [
      "Example: Robin's race car\n",
      "-------------------------\n",
      "Verschueren, Robin: Design and implementation of a time-optimal controller for model race cars, Master's thesis, KU Leuven, 2014.\n"
     ]
    },
    {
     "cell_type": "markdown",
     "metadata": {},
     "source": [
      "<img src=\"files/rc.png\">\n",
      "Image source: Spengler, Patrick and Gammeter, Christoph: Modeling of 1:43 scale race cars, Master\u2019s thesis, ETH Z\u00fcrich, 2010."
     ]
    },
    {
     "cell_type": "markdown",
     "metadata": {},
     "source": [
      "Equation system\n",
      "---------------\n",
      "\n",
      "$$\\dot{X} = v \\, cos(\\psi + C_{1} \\delta) \\\\\n",
      "\\dot{Y} = v \\, sin(\\psi + C_{1} \\delta) \\\\\n",
      "\\dot{\\psi} = v \\, \\delta \\, C_{2} \\\\\n",
      "\\dot{v} = C_{m_{1}} \\, D - C_{m_{2}} \\, D \\, v - C_{r_{2}} \\, v^{2} - C_{r_{0}} - (v \\, \\delta)^{2} \\, C_{2} \\, C_{1}$$\n",
      "\n",
      "\n"
     ]
    },
    {
     "cell_type": "markdown",
     "metadata": {},
     "source": [
      "**where**\n",
      "\n",
      "$$x = \\begin{pmatrix} {X} \\\\ {Y} \\\\ {\\psi} \\\\ {v} \\end{pmatrix}, ~ u = \\begin{pmatrix} {\\delta} \\\\ D \\end{pmatrix}, ~ p = \\begin{pmatrix} {C_{1}} \\\\ {C_{2}} \\\\ {C_{m_{1}}}  \\\\ C_{m_{2}} \\\\ {C_{r_{2}}} \\\\ {C_{r_{0}}} \\end{pmatrix}$$\n",
      "\n",
      "**and**\n",
      "\n",
      "$$y = x$$\n",
      "\n"
     ]
    },
    {
     "cell_type": "code",
     "collapsed": false,
     "input": [
      "# Define the system using CasADi symbolics\n",
      "\n",
      "import casadi as ca\n",
      "import pylab as pl\n",
      "\n",
      "x = ca.MX.sym(\"x\", 4)\n",
      "p = ca.MX.sym(\"p\", 6)\n",
      "u = ca.MX.sym(\"u\", 2)\n",
      "\n",
      "f = ca.vertcat( \\\n",
      "\n",
      "    [x[3] * pl.cos(x[2] + p[0] * u[0]),\n",
      "\n",
      "    x[3] * pl.sin(x[2] + p[0] * u[0]),\n",
      "\n",
      "    x[3] * u[0] * p[1],\n",
      "\n",
      "    p[2] * u[1] \\\n",
      "        - p[3] * u[1] * x[3] \\\n",
      "        - p[4] * x[3]**2 \\\n",
      "        - p[5] \\\n",
      "        - (x[3] * u[0])**2 * p[1] * p[0]])\n",
      "\n",
      "phi = x"
     ],
     "language": "python",
     "metadata": {},
     "outputs": []
    },
    {
     "cell_type": "code",
     "collapsed": false,
     "input": [
      "# Load and define measurements, controls and weightings\n",
      "# (measurement data provided by Robin Verschueren)\n",
      "\n",
      "data = pl.array(pl.loadtxt(\"data_2d_vehicle.dat\", delimiter = \", \", skiprows = 1))\n",
      "\n",
      "# Let's consider some part of the race track\n",
      "\n",
      "time_points = data[200:750:5, 1]\n",
      "\n",
      "ydata = data[200:750:5, [2, 4, 6, 8]]\n",
      "udata = data[200:750:5, [9, 10]][:-1, :]\n",
      "\n",
      "# Plot considered measurement data\n",
      "\n",
      "import casiopeia_demo\n",
      "casiopeia_demo.plot_measurements(time_points, ydata)"
     ],
     "language": "python",
     "metadata": {},
     "outputs": []
    },
    {
     "cell_type": "code",
     "collapsed": false,
     "input": [
      "# Set up the previously defined system for casiopeia\n",
      "\n",
      "import casiopeia as cp\n",
      "\n",
      "system = cp.system.System(x = x, u = u, p = p, f = f, phi = phi)"
     ],
     "language": "python",
     "metadata": {},
     "outputs": []
    },
    {
     "cell_type": "code",
     "collapsed": false,
     "input": [
      "# Set up least squares parameter estimation problem\n",
      "\n",
      "pinit = [0.5, 17.06, 11.5, 5, 0.07, 0.70]\n",
      "\n",
      "pe = cp.pe.LSq( \\\n",
      "    system = system, \\\n",
      "    time_points = time_points, \\\n",
      "    udata = udata, \\\n",
      "    pinit = pinit, \\\n",
      "    ydata = ydata, \\\n",
      "    xinit = ydata)"
     ],
     "language": "python",
     "metadata": {},
     "outputs": []
    },
    {
     "cell_type": "code",
     "collapsed": false,
     "input": [
      "# Run parameter estimation and show results\n",
      "\n",
      "pe.run_parameter_estimation()\n",
      "pe.print_estimation_results()"
     ],
     "language": "python",
     "metadata": {},
     "outputs": []
    },
    {
     "cell_type": "code",
     "collapsed": false,
     "input": [
      "# Simulate system with estimated parameters, plot results\n",
      "\n",
      "sim = cp.sim.Simulation(system, pe.estimated_parameters)\n",
      "sim.run_system_simulation(time_points = time_points, \\\n",
      "    x0 = ydata[0,:], \\\n",
      "    udata = udata)\n",
      "\n",
      "y_sim = sim.simulation_results\n",
      "\n",
      "casiopeia_demo.plot_measurements_and_simulation_results( \\\n",
      "    time_points, ydata, y_sim.T)"
     ],
     "language": "python",
     "metadata": {},
     "outputs": []
    },
    {
     "cell_type": "code",
     "collapsed": false,
     "input": [
      "# Compute covariance matrix, show results\n",
      "\n",
      "pe.compute_covariance_matrix()\n",
      "pe.print_estimation_results()"
     ],
     "language": "python",
     "metadata": {},
     "outputs": []
    },
    {
     "cell_type": "code",
     "collapsed": false,
     "input": [
      "# Now let's consider a smaller part of the race track\n",
      "\n",
      "time_points_sub = data[200:400:5, 1]\n",
      "\n",
      "ydata_sub = data[200:400:5, [2, 4, 6, 8]]\n",
      "udata_sub = data[200:400:5, [9, 10]][:-1, :]\n",
      "\n",
      "# Simulate race car path, using the previously estimated parameters\n",
      "\n",
      "sim_sub = cp.sim.Simulation(system, pe.estimated_parameters)\n",
      "sim_sub.run_system_simulation(time_points = time_points_sub, \\\n",
      "    x0 = ydata_sub[0,:], \\\n",
      "    udata = udata_sub)\n",
      "\n",
      "y_sim_sub = sim_sub.simulation_results\n",
      "\n",
      "casiopeia_demo.plot_simulation_results_initial_controls( \\\n",
      "    time_points_sub, y_sim_sub.T)"
     ],
     "language": "python",
     "metadata": {},
     "outputs": []
    },
    {
     "cell_type": "code",
     "collapsed": false,
     "input": [
      "# Optimize controls for parameter identification\n",
      "\n",
      "umin = [-0.436332, -0.3216]\n",
      "umax = [0.436332, 1.0]\n",
      "\n",
      "xmin = [-0.787, -1.531, -12.614, 0.0]\n",
      "xmax = [1.2390, 0.014, 0.013, 0.7102]\n",
      "\n",
      "doe = cp.doe.DoE(system = system, \\\n",
      "    time_points = time_points_sub, \\\n",
      "    uinit = udata_sub, \\\n",
      "    pdata = pe.estimated_parameters, \\\n",
      "    x0 = ydata[0,:], \\\n",
      "    umin = umin, umax = umax, \\\n",
      "    xmin = xmin, xmax = xmax)"
     ],
     "language": "python",
     "metadata": {},
     "outputs": []
    },
    {
     "cell_type": "code",
     "collapsed": false,
     "input": [
      "# We will not run the experimental design now, because it\n",
      "# will take about 10 minutes to complete, but rather load\n",
      "# the results of a previous optimization\n",
      "\n",
      "# doe.run_experimental_design()\n",
      "\n",
      "udata_opt = pl.loadtxt(\"optimized_controls_casiopeia_demo.txt\").reshape(-1, 2)"
     ],
     "language": "python",
     "metadata": {},
     "outputs": []
    },
    {
     "cell_type": "code",
     "collapsed": false,
     "input": [
      "# Simulate the optimized race car path, plot the results\n",
      "\n",
      "sim_opt = cp.sim.Simulation(system, pe.estimated_parameters)\n",
      "sim_opt.run_system_simulation(time_points = time_points_sub, \\\n",
      "    x0 = ydata_sub[0,:], \\\n",
      "    udata = udata_opt)\n",
      "\n",
      "y_sim_opt = sim_opt.simulation_results\n",
      "\n",
      "casiopeia_demo.plot_simulation_results_initial_and_optimized_controls( \\\n",
      "    time_points_sub, y_sim_sub.T, y_sim_opt.T)"
     ],
     "language": "python",
     "metadata": {},
     "outputs": []
    },
    {
     "cell_type": "code",
     "collapsed": false,
     "input": [
      "# Plot initial and optimized controls for comparison\n",
      "\n",
      "casiopeia_demo.plot_initial_and_optimized_controls( \\\n",
      "    time_points_sub, udata_sub, udata_opt, umin, umax)"
     ],
     "language": "python",
     "metadata": {},
     "outputs": []
    }
   ],
   "metadata": {}
  }
 ]
}