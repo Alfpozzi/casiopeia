{
 "cells": [
  {
   "cell_type": "markdown",
   "metadata": {},
   "source": [
    "# A Schur Complement Method for Optimum Experimental Design in the Presence of Process Noise"
   ]
  },
  {
   "cell_type": "markdown",
   "metadata": {},
   "source": [
    "Adrian Bürger (1,2), Dimitris Kouzoupis (2), Angelika Altmann-Dieses  (1), Moritz Diehl (2,3)\n",
    "\n",
    "(1) Faculty of Management Science and Engineering, Karlsruhe University of Applied Sciences, Germany<br>\n",
    "(2) Department of Microsystems Engineering, University of Freiburg, Germany<br>\n",
    "(3) Department of Mathematics, University of Freiburg, Germany"
   ]
  },
  {
   "cell_type": "markdown",
   "metadata": {},
   "source": [
    "## Demo - Numerical case study\n",
    "\n",
    "### Parameter estimation of a quarter vehicle system using casiopeia \n",
    "\n",
    "https://github.com/adbuerger/casiopeia"
   ]
  },
  {
   "cell_type": "markdown",
   "metadata": {},
   "source": [
    "![casiopeia_logo](logo.png)"
   ]
  },
  {
   "cell_type": "markdown",
   "metadata": {},
   "source": [
    "### 1.) Import modules"
   ]
  },
  {
   "cell_type": "code",
   "execution_count": 1,
   "metadata": {
    "collapsed": true,
    "scrolled": true
   },
   "outputs": [],
   "source": [
    "import pylab as pl\n",
    "\n",
    "import casadi as ca\n",
    "import casiopeia as cp"
   ]
  },
  {
   "cell_type": "markdown",
   "metadata": {},
   "source": [
    "### 2.) System definition"
   ]
  },
  {
   "cell_type": "markdown",
   "metadata": {},
   "source": [
    "$$\\begin{aligned}\n",
    "\\dot{x}_\\mathrm{T}(t) = {} & v_\\mathrm{T}(t) \\\\\n",
    "\\dot{v}_\\mathrm{T}(t) = {} & \\frac{k_\\mathrm{C}}{m_\\mathrm{T}}(v_\\mathrm{C}(t) - v_\\mathrm{T}(t)) + \\frac{c_\\mathrm{C}}{m_\\mathrm{T}} (x_\\mathrm{C}(t) - x_\\mathrm{T}(t)) \\\\\n",
    "& - \\frac{c_\\mathrm{T}}{m_\\mathrm{T}}(x_\\mathrm{T}(t) - u(t)) \\\\\n",
    "\\dot{x}_\\mathrm{C}(t) = {} & v_\\mathrm{C}(t) \\\\\n",
    "\\dot{v}_\\mathrm{C}(t) = {} & - \\frac{k_\\mathrm{C}}{m_\\mathrm{C}}(v_\\mathrm{C}(t) - v_\\mathrm{T}(t)) - \\frac{c_\\mathrm{C}}{m_\\mathrm{C}} (x_\\mathrm{C}(t) - x_\\mathrm{T}(t)).\n",
    "\\end{aligned}$$"
   ]
  },
  {
   "cell_type": "code",
   "execution_count": 2,
   "metadata": {
    "scrolled": true
   },
   "outputs": [
    {
     "name": "stdout",
     "output_type": "stream",
     "text": [
      "\n",
      "##############################################################################\n",
      "#                                                                            #\n",
      "#                                casiopeia 0.1                               #\n",
      "#                                                                            #\n",
      "#            Adrian Buerger 2014-2016, Jesus Lago Garcia 2014-2015           #\n",
      "#                    SYSCOP, IMTEK, University of Freiburg                   #\n",
      "#                                                                            #\n",
      "##############################################################################\n",
      "\n",
      "# ----------------------- casiopeia system definition ---------------------- #\n",
      "\n",
      "Starting system definition ...\n",
      "\n",
      "The system is a dynamic system defined by a set of explicit ODEs xdot\n",
      "which establish the system state x and by an output function phi which\n",
      "sets the system measurements:\n",
      "\n",
      "xdot = f(u, q, x, p, eps_e, eps_u),\n",
      "y = phi(u, q, x, p).\n",
      "\n",
      "Particularly, the system has:\n",
      "1 time-varying controls u\n",
      "0 time-constant controls q\n",
      "3 parameters p\n",
      "4 states x\n",
      "4 outputs phi\n",
      "1 input errors eps_u\n",
      "\n",
      "where xdot is defined by \n",
      "xdot[0] = x[1]\n",
      "xdot[1] = (((((1000*p[0])/50)*(x[3]-x[1]))+(((10000*p[1])/50)*(x[2]-x[0])))-(((100000*p[2])/50)*(x[0]-(u+eps_u))))\n",
      "xdot[2] = x[3]\n",
      "xdot[3] = ((-(((1000*p[0])/250)*(x[3]-x[1])))-(((10000*p[1])/250)*(x[2]-x[0])))\n",
      "\n",
      "and where phi is defined by \n",
      "y[0] = x[0]\n",
      "y[1] = x[1]\n",
      "y[2] = x[2]\n",
      "y[3] = x[3]\n"
     ]
    }
   ],
   "source": [
    "x = ca.MX.sym(\"x\", 4)\n",
    "\n",
    "u = ca.MX.sym(\"u\", 1)\n",
    "eps_u = ca.MX.sym(\"eps_u\", 1)\n",
    "\n",
    "p = ca.MX.sym(\"p\", 3)\n",
    "\n",
    "k_M = p[0]\n",
    "c_M = p[1]\n",
    "c_m = p[2]\n",
    "\n",
    "M = 250.0\n",
    "m = 50.0\n",
    "\n",
    "p_scale = [1e3, 1e4, 1e5]\n",
    "\n",
    "f = ca.vertcat( \\\n",
    "\n",
    "        x[1], \\\n",
    "        (p_scale[0] * k_M / m) * (x[3] - x[1]) + (p_scale[1] * c_M / m) * (x[2] - x[0]) - (p_scale[2] * c_m / m) * (x[0] - (u + eps_u)), \\\n",
    "        x[3], \\\n",
    "        -(p_scale[0] * k_M / M) * (x[3] - x[1]) - (p_scale[1] * c_M / M) * (x[2] - x[0]) \\\n",
    "\n",
    "    )\n",
    "\n",
    "phi = x\n",
    "\n",
    "system = cp.system.System( \\\n",
    "    x = x, u = u, p = p, f = f, phi = phi, eps_u = eps_u)"
   ]
  },
  {
   "cell_type": "markdown",
   "metadata": {},
   "source": [
    "### 2.) Simulation"
   ]
  },
  {
   "cell_type": "code",
   "execution_count": 17,
   "metadata": {
    "scrolled": true
   },
   "outputs": [
    {
     "data": {
      "image/png": "[encoded data removed]",
      "text/plain": [
       "<matplotlib.figure.Figure at 0x7fa1ffaf6410>"
      ]
     },
     "metadata": {},
     "output_type": "display_data"
    }
   ],
   "source": [
    "T = 5.0\n",
    "N = 100\n",
    "\n",
    "k_M_true = 4.0\n",
    "c_M_true = 4.0\n",
    "c_m_true = 1.6\n",
    "\n",
    "p_true = [k_M_true, c_M_true, c_m_true]\n",
    "\n",
    "time_points = pl.linspace(0, T, N+1)\n",
    "\n",
    "u0 = 0.05\n",
    "udata = u0 * pl.sin(2 * pl.pi * time_points[:-1])\n",
    "\n",
    "simulation_true_parameters = cp.sim.Simulation( \\\n",
    "    system = system, pdata = p_true)\n",
    "\n",
    "sigma_u = 0.005\n",
    "udata_noise = udata + sigma_u * pl.randn(*udata.shape)\n",
    "\n",
    "\n",
    "# Plot controls\n",
    "\n",
    "f = pl.figure()\n",
    "ax = pl.gca()\n",
    "ax.step(time_points[:-1], udata, label = \"u_init\")\n",
    "ax.step(time_points[:-1], udata_noise, label = \"u_init_noise\")\n",
    "ax.legend(loc = \"best\")\n",
    "ax.set_xlabel(\"t\")\n",
    "ax.set_ylabel(\"u\")\n",
    "pl.show()"
   ]
  },
  {
   "cell_type": "code",
   "execution_count": 11,
   "metadata": {},
   "outputs": [
    {
     "name": "stdout",
     "output_type": "stream",
     "text": [
      "\n",
      "# ----------------------- casiopeia system simulation ---------------------- #\n",
      "\n",
      "Running system simulation, this might take some time ...\n",
      "\n",
      "System simulation finished.\n"
     ]
    },
    {
     "data": {
      "image/png": "[encoded data removed]",
      "text/plain": [
       "<matplotlib.figure.Figure at 0x7fa201e51f10>"
      ]
     },
     "metadata": {},
     "output_type": "display_data"
    }
   ],
   "source": [
    "x0 = pl.zeros(x.shape)\n",
    "\n",
    "simulation_true_parameters.run_system_simulation( \\\n",
    "    x0 = x0, time_points = time_points, udata = udata_noise)\n",
    "\n",
    "ydata = simulation_true_parameters.simulation_results.T\n",
    "\n",
    "sigma_y = pl.array([0.01, 0.01, 0.01, 0.01])\n",
    "ydata_noise = ydata + sigma_y * pl.randn(*ydata.shape)\n",
    "\n",
    "\n",
    "# Plot simulation results\n",
    "\n",
    "f = pl.figure()\n",
    "ax = pl.gca()\n",
    "ax.plot(time_points, ydata_noise[:,0], label = \"x_T\")\n",
    "ax.plot(time_points, ydata[:,0], label = \"x_T_noise\")\n",
    "ax.legend(loc = \"best\")\n",
    "ax.set_xlabel(\"t\")\n",
    "ax.set_ylabel(\"x\")\n",
    "pl.show()"
   ]
  },
  {
   "cell_type": "markdown",
   "metadata": {},
   "source": [
    "### 3.) Parameter estimation for initial experiment"
   ]
  },
  {
   "cell_type": "code",
   "execution_count": 8,
   "metadata": {
    "scrolled": false
   },
   "outputs": [
    {
     "name": "stdout",
     "output_type": "stream",
     "text": [
      "\n",
      "# -------------- casiopeia least squares parameter estimation -------------- #\n",
      "\n",
      "Starting least squares parameter estimation using IPOPT, \n",
      "this might take some time ...\n",
      "\n",
      "This is Ipopt version 3.12, running with linear solver ma27.\n",
      "\n",
      "Number of nonzeros in equality constraint Jacobian...:     4408\n",
      "Number of nonzeros in inequality constraint Jacobian.:        0\n",
      "Number of nonzeros in Lagrangian Hessian.............:     2010\n",
      "\n",
      "Total number of variables............................:      911\n",
      "                     variables with only lower bounds:        0\n",
      "                variables with lower and upper bounds:        0\n",
      "                     variables with only upper bounds:        0\n",
      "Total number of equality constraints.................:      804\n",
      "Total number of inequality constraints...............:        0\n",
      "        inequality constraints with only lower bounds:        0\n",
      "   inequality constraints with lower and upper bounds:        0\n",
      "        inequality constraints with only upper bounds:        0\n",
      "\n",
      "iter    objective    inf_pr   inf_du lg(mu)  ||d||  lg(rg) alpha_du alpha_pr  ls\n",
      "   0  0.0000000e+00 5.41e-01 0.00e+00  -1.0 0.00e+00    -  0.00e+00 0.00e+00   0\n",
      "   1  2.6062648e+03 1.51e-01 1.24e+04  -1.7 1.96e+00    -  1.00e+00 1.00e+00h  1\n",
      "   2  9.4149715e+02 9.85e-02 1.66e+04  -1.7 1.25e+00    -  1.00e+00 1.00e+00f  1\n",
      "   3  2.8243450e+02 1.04e-02 3.15e+03  -1.7 6.49e-01    -  1.00e+00 1.00e+00f  1\n",
      "   4  2.6857253e+02 6.53e-04 1.09e+02  -1.7 2.49e-01    -  1.00e+00 1.00e+00f  1\n",
      "   5  2.6835651e+02 1.36e-05 1.44e+00  -1.7 3.77e-02    -  1.00e+00 1.00e+00f  1\n",
      "   6  2.6835503e+02 5.66e-09 5.40e-04  -1.7 7.41e-04    -  1.00e+00 1.00e+00h  1\n",
      "   7  2.6835503e+02 1.17e-15 9.64e-11  -5.7 3.44e-07    -  1.00e+00 1.00e+00h  1\n",
      "\n",
      "Number of Iterations....: 7\n",
      "\n",
      "                                   (scaled)                 (unscaled)\n",
      "Objective...............:   2.6835502709387032e+02    2.6835502709387032e+02\n",
      "Dual infeasibility......:   9.6406438387930393e-11    9.6406438387930393e-11\n",
      "Constraint violation....:   1.1657341758564144e-15    1.1657341758564144e-15\n",
      "Complementarity.........:   0.0000000000000000e+00    0.0000000000000000e+00\n",
      "Overall NLP error.......:   5.1445559491857421e-11    9.6406438387930393e-11\n",
      "\n",
      "\n",
      "Number of objective function evaluations             = 8\n",
      "Number of objective gradient evaluations             = 8\n",
      "Number of equality constraint evaluations            = 8\n",
      "Number of inequality constraint evaluations          = 0\n",
      "Number of equality constraint Jacobian evaluations   = 8\n",
      "Number of inequality constraint Jacobian evaluations = 0\n",
      "Number of Lagrangian Hessian evaluations             = 7\n",
      "Total CPU secs in IPOPT (w/o function evaluations)   =      0.032\n",
      "Total CPU secs in NLP function evaluations           =      0.468\n",
      "\n",
      "EXIT: Optimal Solution Found.\n",
      "                   proc           wall      num           mean             mean\n",
      "                   time           time     evals       proc time        wall time\n",
      "        nlp_f     0.000 [s]      0.000 [s]     8       0.01 [ms]        0.00 [ms]\n",
      "        nlp_g     0.019 [s]      0.019 [s]     8       2.37 [ms]        2.37 [ms]\n",
      "   nlp_grad_f     0.000 [s]      0.000 [s]     9       0.01 [ms]        0.01 [ms]\n",
      "    nlp_jac_g     0.165 [s]      0.165 [s]     9      18.28 [ms]       18.28 [ms]\n",
      "   nlp_hess_l     0.309 [s]      0.309 [s]     7      44.07 [ms]       44.09 [ms]\n",
      " all previous     0.492 [s]      0.492 [s]\n",
      "callback_prep     0.000 [s]      0.000 [s]     8       0.01 [ms]        0.01 [ms]\n",
      "       solver     0.010 [s]      0.009 [s]\n",
      "     mainloop     0.503 [s]      0.502 [s]\n",
      "\n",
      "Parameter estimation finished. Check IPOPT output for status information.\n",
      "\n",
      "\n",
      "# ----------------- casiopeia covariance matrix computation ---------------- #\n",
      "\n",
      "Computing the covariance matrix for the estimated parameters,\n",
      "this might take some time ...\n",
      "Covariance matrix computation finished.\n",
      "\n",
      "# ----------------- casiopeia parameter estimation results ----------------- #\n",
      "\n",
      "Estimated parameters p_i:\n",
      "    p_0   = 3.96395 +/- 0.0905243\n",
      "    p_1   = 3.83197 +/- 0.101579\n",
      "    p_2   = 1.58537 +/- 0.0210789\n",
      "\n",
      "Covariance matrix for the estimated parameters:\n",
      "[[ 8.19465217e-03 -1.82555477e-03  1.68377988e-03]\n",
      " [-1.82555477e-03  1.03182982e-02 -4.85529318e-04]\n",
      " [ 1.68377988e-03 -4.85529318e-04  4.44318671e-04]]\n",
      "\n",
      "Duration of the estimation.......................: 5.34616947e-01 s\n",
      "Duration of the covariance matrix computation....: 2.99968719e-02 s\n"
     ]
    }
   ],
   "source": [
    "wv = (1.0 / sigma_y**2) * pl.ones(ydata.shape)\n",
    "weps_u = (1.0 / sigma_u**2) * pl.ones(udata.shape)\n",
    "\n",
    "pe = cp.pe.LSq(system = system, \\\n",
    "    time_points = time_points, \\\n",
    "    udata = udata, \\\n",
    "    pinit = [1.0, 1.0, 1.0], \\\n",
    "    ydata = ydata_noise, \\\n",
    "    xinit = ydata_noise, \\\n",
    "    wv = wv,\n",
    "    weps_u = weps_u,\n",
    "    discretization_method = \"multiple_shooting\")\n",
    "\n",
    "pe.run_parameter_estimation()\n",
    "pe.compute_covariance_matrix()\n",
    "\n",
    "pe.print_estimation_results()"
   ]
  },
  {
   "cell_type": "code",
   "execution_count": 16,
   "metadata": {
    "scrolled": true
   },
   "outputs": [
    {
     "data": {
      "image/png": "[encoded data removed]",
      "text/plain": [
       "<matplotlib.figure.Figure at 0x7fa1ffa8d890>"
      ]
     },
     "metadata": {},
     "output_type": "display_data"
    }
   ],
   "source": [
    "p_for_oed = pe.estimated_parameters\n",
    "\n",
    "ulim = 0.05\n",
    "umin = -ulim\n",
    "umax = +ulim\n",
    "\n",
    "xlim = [0.1, 0.4, 0.1, 0.4]\n",
    "xmin = [-lim for lim in xlim]\n",
    "xmax = [+lim for lim in xlim]\n",
    "\n",
    "sigma_y = pl.array([0.01, 0.01, 0.01, 0.01])\n",
    "sigma_u = 0.005\n",
    "\n",
    "wv = (1.0 / sigma_y**2) * pl.ones(ydata.shape)\n",
    "weps_u = (1.0 / sigma_u**2) * pl.ones(udata.shape)\n",
    "\n",
    "doe = cp.doe.DoE(system = system, time_points = time_points, \\\n",
    "    uinit = udata, pdata = p_for_oed, \\\n",
    "    x0 = ydata[0,:], \\\n",
    "    wv = wv, weps_u = weps_u, \\\n",
    "    umin = umin, umax = umax, \\\n",
    "    xmin = xmin, xmax = xmax)\n",
    "\n",
    "# doe.run_experimental_design(solver_options = {\"ipopt\": {\"linear_solver\": \"ma86\"}})\n",
    "# u_opt = doe.design_results\n",
    "\n",
    "u_opt = pl.loadtxt(\"u_opt.txt\")\n",
    "\n",
    "\n",
    "# Plot controls\n",
    "\n",
    "f = pl.figure()\n",
    "ax = pl.gca()\n",
    "ax.step(time_points[:-1], udata, label = \"u_init\")\n",
    "ax.step(time_points[:-1], u_opt, label = \"u_opt\")\n",
    "ax.legend(loc = \"best\")\n",
    "ax.set_xlabel(\"t\")\n",
    "ax.set_ylabel(\"u\")\n",
    "pl.show()"
   ]
  },
  {
   "cell_type": "code",
   "execution_count": null,
   "metadata": {
    "collapsed": true
   },
   "outputs": [],
   "source": []
  }
 ],
 "metadata": {
  "kernelspec": {
   "display_name": "Python 2",
   "language": "python",
   "name": "python2"
  },
  "language_info": {
   "codemirror_mode": {
    "name": "ipython",
    "version": 2
   },
   "file_extension": ".py",
   "mimetype": "text/x-python",
   "name": "python",
   "nbconvert_exporter": "python",
   "pygments_lexer": "ipython2",
   "version": "2.7.12"
  }
 },
 "nbformat": 4,
 "nbformat_minor": 2
}
